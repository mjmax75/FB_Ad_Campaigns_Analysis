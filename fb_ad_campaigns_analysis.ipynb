{
 "cells": [
  {
   "cell_type": "markdown",
   "metadata": {},
   "source": [
    "## Introduction\n",
    "\n",
    "This project is from Kaggle, and the goal of this project is to analyze the social media platform's (Facebook in this case) sales conversion.\n",
    "\n",
    "### Data sources\n",
    "* The data in this project is from an anonymous organization's social media ad campaign. The file is in csv form and contains 1143 observations in 11 variables. Below are the descriptions of the variables.\n",
    "1. `ad_id`: an unique ID for each ad\n",
    "2. `xyzcampaignid`: an ID associated with each ad campaign of XYZ company\n",
    "3. `fbcampaignid`: an ID associated with how Facebook (FB) tracks each campaign\n",
    "4. `age`: age of the person to whom the ad is shown\n",
    "5. `gender`: gender of the person to whom the ad is shown \n",
    "6. `interest`: a code specifying the category to which the person's interest belongs (interests are as mentioned in the person's FB public profile)\n",
    "7. `impressions`: the number of times the ad was shown\n",
    "8. `clicks`: number of clicks on for that ad\n",
    "9. `spent`: amount paid by company xyz to FB to show that ad\n",
    "10. `total conversion`: total number of people who enquired about the product after seeing the ad\n",
    "11. `approved conversion`: total number of people who bought the product after seeing the ad  \n"
   ]
  },
  {
   "cell_type": "code",
   "execution_count": null,
   "metadata": {},
   "outputs": [],
   "source": []
  }
 ],
 "metadata": {
  "language_info": {
   "name": "python"
  },
  "orig_nbformat": 4
 },
 "nbformat": 4,
 "nbformat_minor": 2
}
